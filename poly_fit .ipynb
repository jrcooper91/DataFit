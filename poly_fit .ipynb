{
 "cells": [
  {
   "cell_type": "code",
   "execution_count": 20,
   "metadata": {},
   "outputs": [],
   "source": [
    "import matplotlib.pyplot as plt\n",
    "import numpy as np\n",
    "from scipy.stats import chi2_contingency\n",
    "from pylab import *\n",
    "from scipy import *\n",
    "from scipy import optimize "
   ]
  },
  {
   "cell_type": "code",
   "execution_count": 21,
   "metadata": {
    "collapsed": true
   },
   "outputs": [],
   "source": [
    "f = open('data.v4.txt', 'r')\n",
    "lines = f.readlines()[1:]\n",
    "f.close()\n",
    "x = []\n",
    "y = []\n",
    "ery = []"
   ]
  },
  {
   "cell_type": "code",
   "execution_count": 22,
   "metadata": {
    "collapsed": true
   },
   "outputs": [],
   "source": [
    "for line in lines:\n",
    "    a = line.split()\n",
    "    x.append(float(a[0]))\n",
    "    y.append(float(a[1]))\n",
    "    ery.append(float(a[2]))\n"
   ]
  },
  {
   "cell_type": "code",
   "execution_count": 23,
   "metadata": {
    "collapsed": true
   },
   "outputs": [],
   "source": [
    "x1 = np.array(x)\n",
    "y1 = np.array(y)\n",
    "ery1 = np.array(ery)"
   ]
  },
  {
   "cell_type": "code",
   "execution_count": 24,
   "metadata": {
    "collapsed": true
   },
   "outputs": [],
   "source": [
    "powerlaw = lambda x, amp, index: amp * (x**index)"
   ]
  },
  {
   "cell_type": "code",
   "execution_count": 25,
   "metadata": {
    "collapsed": true
   },
   "outputs": [],
   "source": [
    "fitfunc = lambda p, x: p[0] + p[1] * x   \n",
    "errfunc = lambda p, x, y, err: (y - fitfunc(p, x)) / err"
   ]
  },
  {
   "cell_type": "code",
   "execution_count": 35,
   "metadata": {},
   "outputs": [],
   "source": [
    "logx = log10(x1[1:])\n",
    "logy = log10(y1[1:])\n",
    "logyerr = log10(ery1[1:])"
   ]
  },
  {
   "cell_type": "code",
   "execution_count": 36,
   "metadata": {},
   "outputs": [],
   "source": [
    "pinit = [1.0, -1.0]\n",
    "out = optimize.leastsq(errfunc, pinit, args=(logx, logy, logyerr), full_output=1)"
   ]
  },
  {
   "cell_type": "code",
   "execution_count": 37,
   "metadata": {},
   "outputs": [
    {
     "name": "stdout",
     "output_type": "stream",
     "text": [
      "[ 0.63818668  1.76156968]\n",
      "[[ 0.26699742 -0.22218563]\n",
      " [-0.22218563  0.23761284]]\n"
     ]
    }
   ],
   "source": [
    "pfinal = out[0]\n",
    "covar = out[1]\n",
    "print pfinal\n",
    "print covar "
   ]
  },
  {
   "cell_type": "code",
   "execution_count": 42,
   "metadata": {},
   "outputs": [],
   "source": [
    "index = pfinal[1]\n",
    "amp = 10.0**pfinal[0]\n",
    "indexErr = sqrt( covar[0][0] ) \n",
    "ampErr = sqrt( covar[1][1] ) * amp"
   ]
  },
  {
   "cell_type": "code",
   "execution_count": 49,
   "metadata": {},
   "outputs": [
    {
     "data": {
      "image/png": "[encoded data removed]",
      "text/plain": [
       "<matplotlib.figure.Figure at 0x118c1bdd0>"
      ]
     },
     "metadata": {},
     "output_type": "display_data"
    }
   ],
   "source": [
    "clf()\n",
    "subplot(2, 1, 1)\n",
    "plot(x1, powerlaw(x1, amp, index))\n",
    "errorbar(x1, y1, yerr=ery1, fmt='k.')\n",
    "text(5, 2000, 'Amp = %5.2f +/- %5.2f' % (amp, ampErr))\n",
    "text(5, 3000, 'Index = %5.2f +/- %5.2f' % (index, indexErr))\n",
    "title('Best Fit for Power Law')\n",
    "xlabel('x')\n",
    "ylabel('y')\n",
    "plt.show()"
   ]
  },
  {
   "cell_type": "code",
   "execution_count": 54,
   "metadata": {},
   "outputs": [
    {
     "data": {
      "image/png": "[encoded data removed]",
      "text/plain": [
       "<matplotlib.figure.Figure at 0x1190840d0>"
      ]
     },
     "metadata": {},
     "output_type": "display_data"
    }
   ],
   "source": [
    "subplot(2,1,2)\n",
    "loglog(x1, powerlaw(x1, amp, index))\n",
    "errorbar(x1, y1, yerr=ery1, fmt='k.')\n",
    "xlabel('log(X)')\n",
    "ylabel('log(y)')\n",
    "plt.show()"
   ]
  },
  {
   "cell_type": "code",
   "execution_count": 72,
   "metadata": {},
   "outputs": [
    {
     "name": "stdout",
     "output_type": "stream",
     "text": [
      "a= 4.34697033684 +/- 2.11895451195\n",
      "n= 1.76156967695 +/- 0.516717930228\n",
      "y0=\n"
     ]
    }
   ],
   "source": [
    "print 'a=',amp, '+/-',ampErr\n",
    "print 'n=',index, '+/-',indexErr\n",
    "x0 = #just stuck on the intercept part \n",
    "print 'x0='"
   ]
  }
 ],
 "metadata": {
  "kernelspec": {
   "display_name": "Python 2",
   "language": "python",
   "name": "python2"
  },
  "language_info": {
   "codemirror_mode": {
    "name": "ipython",
    "version": 2
   },
   "file_extension": ".py",
   "mimetype": "text/x-python",
   "name": "python",
   "nbconvert_exporter": "python",
   "pygments_lexer": "ipython2",
   "version": "2.7.13"
  }
 },
 "nbformat": 4,
 "nbformat_minor": 2
}
